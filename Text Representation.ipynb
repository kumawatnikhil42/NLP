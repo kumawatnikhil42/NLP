{
 "cells": [
  {
   "cell_type": "markdown",
   "id": "cc469907-4f0c-494b-a912-e2f08535f2d0",
   "metadata": {},
   "source": [
    "# Bag of Words"
   ]
  },
  {
   "cell_type": "code",
   "execution_count": 1,
   "id": "afe09421-975a-46aa-ac74-a5961376b632",
   "metadata": {},
   "outputs": [],
   "source": [
    "import numpy as np\n",
    "import pandas as pd"
   ]
  },
  {
   "cell_type": "code",
   "execution_count": 2,
   "id": "64393537-746f-4f7b-9006-014a3fff95c2",
   "metadata": {},
   "outputs": [],
   "source": [
    "df=pd.DataFrame({\"text\":['people watch youtube','youtube watch youtube',\"people write comment\",\"youtube write comment\"],\"output\":[1,1,0,0]})"
   ]
  },
  {
   "cell_type": "code",
   "execution_count": 3,
   "id": "f254ab01-405b-4a89-9612-0cff3016aeab",
   "metadata": {},
   "outputs": [
    {
     "data": {
      "text/html": [
       "<div>\n",
       "<style scoped>\n",
       "    .dataframe tbody tr th:only-of-type {\n",
       "        vertical-align: middle;\n",
       "    }\n",
       "\n",
       "    .dataframe tbody tr th {\n",
       "        vertical-align: top;\n",
       "    }\n",
       "\n",
       "    .dataframe thead th {\n",
       "        text-align: right;\n",
       "    }\n",
       "</style>\n",
       "<table border=\"1\" class=\"dataframe\">\n",
       "  <thead>\n",
       "    <tr style=\"text-align: right;\">\n",
       "      <th></th>\n",
       "      <th>text</th>\n",
       "      <th>output</th>\n",
       "    </tr>\n",
       "  </thead>\n",
       "  <tbody>\n",
       "    <tr>\n",
       "      <th>0</th>\n",
       "      <td>people watch youtube</td>\n",
       "      <td>1</td>\n",
       "    </tr>\n",
       "    <tr>\n",
       "      <th>1</th>\n",
       "      <td>youtube watch youtube</td>\n",
       "      <td>1</td>\n",
       "    </tr>\n",
       "    <tr>\n",
       "      <th>2</th>\n",
       "      <td>people write comment</td>\n",
       "      <td>0</td>\n",
       "    </tr>\n",
       "    <tr>\n",
       "      <th>3</th>\n",
       "      <td>youtube write comment</td>\n",
       "      <td>0</td>\n",
       "    </tr>\n",
       "  </tbody>\n",
       "</table>\n",
       "</div>"
      ],
      "text/plain": [
       "                    text  output\n",
       "0   people watch youtube       1\n",
       "1  youtube watch youtube       1\n",
       "2   people write comment       0\n",
       "3  youtube write comment       0"
      ]
     },
     "execution_count": 3,
     "metadata": {},
     "output_type": "execute_result"
    }
   ],
   "source": [
    "df"
   ]
  },
  {
   "cell_type": "code",
   "execution_count": 4,
   "id": "f6f48bc5-00f4-46e1-9b5a-f3f92386fcc2",
   "metadata": {},
   "outputs": [],
   "source": [
    "from sklearn.feature_extraction.text import CountVectorizer\n",
    "cv=CountVectorizer()"
   ]
  },
  {
   "cell_type": "code",
   "execution_count": 5,
   "id": "56063cae-edd0-4a2e-95e5-0dc92a887acb",
   "metadata": {},
   "outputs": [],
   "source": [
    "bow=cv.fit_transform(df['text'])"
   ]
  },
  {
   "cell_type": "code",
   "execution_count": 6,
   "id": "d46fd5a7-15c6-48d2-85b3-00fd25cfe898",
   "metadata": {},
   "outputs": [
    {
     "data": {
      "text/plain": [
       "{'people': 1, 'watch': 2, 'youtube': 4, 'write': 3, 'comment': 0}"
      ]
     },
     "execution_count": 6,
     "metadata": {},
     "output_type": "execute_result"
    }
   ],
   "source": [
    "cv.vocabulary_"
   ]
  },
  {
   "cell_type": "code",
   "execution_count": 7,
   "id": "026c4de4-713c-4c78-91d4-f9cae5212638",
   "metadata": {},
   "outputs": [
    {
     "name": "stdout",
     "output_type": "stream",
     "text": [
      "[[0 1 1 0 1]]\n",
      "[[0 0 1 0 2]]\n",
      "[[1 1 0 1 0]]\n"
     ]
    }
   ],
   "source": [
    "print(bow[0].toarray())\n",
    "print(bow[1].toarray())\n",
    "print(bow[2].toarray())"
   ]
  },
  {
   "cell_type": "markdown",
   "id": "c55f28af-6aed-4f58-b0c8-930ca5011fb8",
   "metadata": {},
   "source": [
    "# N-Grams"
   ]
  },
  {
   "cell_type": "code",
   "execution_count": 9,
   "id": "ee1a55d3-6a93-4ed5-ae6f-9467ac74088b",
   "metadata": {},
   "outputs": [
    {
     "data": {
      "text/html": [
       "<div>\n",
       "<style scoped>\n",
       "    .dataframe tbody tr th:only-of-type {\n",
       "        vertical-align: middle;\n",
       "    }\n",
       "\n",
       "    .dataframe tbody tr th {\n",
       "        vertical-align: top;\n",
       "    }\n",
       "\n",
       "    .dataframe thead th {\n",
       "        text-align: right;\n",
       "    }\n",
       "</style>\n",
       "<table border=\"1\" class=\"dataframe\">\n",
       "  <thead>\n",
       "    <tr style=\"text-align: right;\">\n",
       "      <th></th>\n",
       "      <th>text</th>\n",
       "      <th>output</th>\n",
       "    </tr>\n",
       "  </thead>\n",
       "  <tbody>\n",
       "    <tr>\n",
       "      <th>0</th>\n",
       "      <td>people watch youtube</td>\n",
       "      <td>1</td>\n",
       "    </tr>\n",
       "    <tr>\n",
       "      <th>1</th>\n",
       "      <td>youtube watch youtube</td>\n",
       "      <td>1</td>\n",
       "    </tr>\n",
       "    <tr>\n",
       "      <th>2</th>\n",
       "      <td>people write comment</td>\n",
       "      <td>0</td>\n",
       "    </tr>\n",
       "    <tr>\n",
       "      <th>3</th>\n",
       "      <td>youtube write comment</td>\n",
       "      <td>0</td>\n",
       "    </tr>\n",
       "  </tbody>\n",
       "</table>\n",
       "</div>"
      ],
      "text/plain": [
       "                    text  output\n",
       "0   people watch youtube       1\n",
       "1  youtube watch youtube       1\n",
       "2   people write comment       0\n",
       "3  youtube write comment       0"
      ]
     },
     "execution_count": 9,
     "metadata": {},
     "output_type": "execute_result"
    }
   ],
   "source": [
    "df.head()"
   ]
  },
  {
   "cell_type": "code",
   "execution_count": 31,
   "id": "19d71ade-1d54-4792-be58-25aeb862df2b",
   "metadata": {},
   "outputs": [],
   "source": [
    "cv=CountVectorizer(ngram_range=(2,2))"
   ]
  },
  {
   "cell_type": "code",
   "execution_count": 32,
   "id": "288b4adb-743b-4bf8-9ba6-78f7b486d7d2",
   "metadata": {},
   "outputs": [],
   "source": [
    "bowb=cv.fit_transform(df['text'])"
   ]
  },
  {
   "cell_type": "code",
   "execution_count": 38,
   "id": "c3f67c9e-323e-489e-86ce-984c25b9d266",
   "metadata": {},
   "outputs": [
    {
     "data": {
      "text/plain": [
       "{'people watch': 0,\n",
       " 'watch youtube': 2,\n",
       " 'youtube watch': 4,\n",
       " 'people write': 1,\n",
       " 'write comment': 3,\n",
       " 'youtube write': 5}"
      ]
     },
     "execution_count": 38,
     "metadata": {},
     "output_type": "execute_result"
    }
   ],
   "source": [
    "cv.vocabulary_"
   ]
  },
  {
   "cell_type": "code",
   "execution_count": 41,
   "id": "85ae388e-98b7-4560-b6c1-1e40b9f2e2e5",
   "metadata": {},
   "outputs": [
    {
     "name": "stdout",
     "output_type": "stream",
     "text": [
      "[[1 0 1 0 0 0]]\n",
      "[[0 0 1 0 1 0]]\n",
      "[[0 1 0 1 0 0]]\n",
      "[[0 0 0 1 0 1]]\n"
     ]
    }
   ],
   "source": [
    "print(bowb[0].toarray())\n",
    "print(bowb[1].toarray())\n",
    "print(bowb[2].toarray())\n",
    "print(bowb[3].toarray())"
   ]
  },
  {
   "cell_type": "code",
   "execution_count": 59,
   "id": "41738ac7-8236-4b76-9ae8-1f01bfe86135",
   "metadata": {},
   "outputs": [],
   "source": [
    "cv=CountVectorizer(ngram_range=(2,2))\n",
    "b=cv.fit_transform([\"this movie is very good\",\"this movie is not good\"])"
   ]
  },
  {
   "cell_type": "code",
   "execution_count": 60,
   "id": "b2063cbf-15fa-4214-b0e7-c397141bc95a",
   "metadata": {},
   "outputs": [
    {
     "data": {
      "text/plain": [
       "{'this movie': 4,\n",
       " 'movie is': 2,\n",
       " 'is very': 1,\n",
       " 'very good': 5,\n",
       " 'is not': 0,\n",
       " 'not good': 3}"
      ]
     },
     "execution_count": 60,
     "metadata": {},
     "output_type": "execute_result"
    }
   ],
   "source": [
    "cv.vocabulary_"
   ]
  },
  {
   "cell_type": "code",
   "execution_count": 62,
   "id": "d9f32b56-34aa-4372-ab8e-12d891ef7a6c",
   "metadata": {},
   "outputs": [
    {
     "name": "stdout",
     "output_type": "stream",
     "text": [
      "[[0 1 1 0 1 1]]\n",
      "[[1 0 1 1 1 0]]\n"
     ]
    }
   ],
   "source": [
    "print(b[0].toarray())\n",
    "print(b[1].toarray())"
   ]
  },
  {
   "cell_type": "markdown",
   "id": "ea79e39d-1d64-461f-8778-70391aa6b891",
   "metadata": {},
   "source": [
    "# Tf-Idf"
   ]
  },
  {
   "cell_type": "code",
   "execution_count": 65,
   "id": "562d3797-fb1b-4f79-ac01-04ae39ec2a5d",
   "metadata": {},
   "outputs": [],
   "source": [
    "from sklearn.feature_extraction.text import TfidfVectorizer\n",
    "tfidf=TfidfVectorizer()\n",
    "t=tfidf.fit_transform(df['text'])"
   ]
  },
  {
   "cell_type": "code",
   "execution_count": 67,
   "id": "019f25cb-adb2-40b4-a0d7-bf58ba80a275",
   "metadata": {},
   "outputs": [
    {
     "data": {
      "text/plain": [
       "array([[0.        , 0.61366674, 0.61366674, 0.        , 0.49681612],\n",
       "       [0.        , 0.        , 0.52546357, 0.        , 0.8508161 ],\n",
       "       [0.57735027, 0.57735027, 0.        , 0.57735027, 0.        ],\n",
       "       [0.61366674, 0.        , 0.        , 0.61366674, 0.49681612]])"
      ]
     },
     "execution_count": 67,
     "metadata": {},
     "output_type": "execute_result"
    }
   ],
   "source": [
    "t.toarray()"
   ]
  },
  {
   "cell_type": "code",
   "execution_count": 68,
   "id": "35782eac-56a0-4e15-92d1-e4a009227d19",
   "metadata": {},
   "outputs": [
    {
     "data": {
      "text/plain": [
       "array([1.51082562, 1.51082562, 1.51082562, 1.51082562, 1.22314355])"
      ]
     },
     "execution_count": 68,
     "metadata": {},
     "output_type": "execute_result"
    }
   ],
   "source": [
    "tfidf.idf_"
   ]
  },
  {
   "cell_type": "code",
   "execution_count": 71,
   "id": "9871b91f-937b-43bc-baaf-270979c0e327",
   "metadata": {},
   "outputs": [
    {
     "data": {
      "text/plain": [
       "array(['comment', 'people', 'watch', 'write', 'youtube'], dtype=object)"
      ]
     },
     "execution_count": 71,
     "metadata": {},
     "output_type": "execute_result"
    }
   ],
   "source": [
    "tfidf.get_feature_names_out()"
   ]
  },
  {
   "cell_type": "code",
   "execution_count": null,
   "id": "6798e5e5-d794-4460-b580-5bc49f1b1f74",
   "metadata": {},
   "outputs": [],
   "source": []
  },
  {
   "cell_type": "code",
   "execution_count": null,
   "id": "8abc7edb-3615-406f-9341-9d36bad151c5",
   "metadata": {},
   "outputs": [],
   "source": []
  }
 ],
 "metadata": {
  "kernelspec": {
   "display_name": "Python 3 (ipykernel)",
   "language": "python",
   "name": "python3"
  },
  "language_info": {
   "codemirror_mode": {
    "name": "ipython",
    "version": 3
   },
   "file_extension": ".py",
   "mimetype": "text/x-python",
   "name": "python",
   "nbconvert_exporter": "python",
   "pygments_lexer": "ipython3",
   "version": "3.12.4"
  }
 },
 "nbformat": 4,
 "nbformat_minor": 5
}
